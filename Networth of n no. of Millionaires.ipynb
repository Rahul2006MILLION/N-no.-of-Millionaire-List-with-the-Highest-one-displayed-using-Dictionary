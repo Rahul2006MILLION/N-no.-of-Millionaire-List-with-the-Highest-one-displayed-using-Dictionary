{
 "cells": [
  {
   "cell_type": "code",
   "execution_count": 1,
   "id": "68dd5b26-b1ae-4ed8-8575-a413b99e14b7",
   "metadata": {},
   "outputs": [
    {
     "name": "stdin",
     "output_type": "stream",
     "text": [
      "Enter the Number of input:  4\n",
      "Enter the name:  Rahul\n",
      "Enter the Networth $:  100000000\n",
      "Enter the name:  Judy\n",
      "Enter the Networth $:  20000000\n",
      "Enter the name:  Jordan\n",
      "Enter the Networth $:  200000000\n",
      "Enter the name:  Nina\n",
      "Enter the Networth $:  30000000\n"
     ]
    },
    {
     "name": "stdout",
     "output_type": "stream",
     "text": [
      "{'Rahul': 100000000, 'Judy': 20000000, 'Jordan': 200000000, 'Nina': 30000000}\n",
      "Heighest Networt... $$\n",
      "Jordan holds the heighest networth of $200000000\n"
     ]
    }
   ],
   "source": [
    "n=int(input(\"Enter the Number of input: \"))\n",
    "networth={}\n",
    "for i in range(n):\n",
    "    name=input(\"Enter the name: \")\n",
    "    net=int(input(\"Enter the Networth $: \"))\n",
    "    networth[name]=net\n",
    "print(networth)\n",
    "print(\"Heighest Networt... $$\")\n",
    "max_net=0\n",
    "name_holder=''\n",
    "for namee in networth.keys():\n",
    "    if networth[namee]>max_net:\n",
    "        max_net=networth[namee]\n",
    "        name_holder=namee\n",
    "print(f\"{name_holder} holds the heighest networth of ${max_net}\")"
   ]
  },
  {
   "cell_type": "code",
   "execution_count": null,
   "id": "846bbd78-df3c-4d6b-9e68-9cd0c8bf46d8",
   "metadata": {},
   "outputs": [],
   "source": []
  }
 ],
 "metadata": {
  "kernelspec": {
   "display_name": "Python 3 (ipykernel)",
   "language": "python",
   "name": "python3"
  },
  "language_info": {
   "codemirror_mode": {
    "name": "ipython",
    "version": 3
   },
   "file_extension": ".py",
   "mimetype": "text/x-python",
   "name": "python",
   "nbconvert_exporter": "python",
   "pygments_lexer": "ipython3",
   "version": "3.12.4"
  }
 },
 "nbformat": 4,
 "nbformat_minor": 5
}
