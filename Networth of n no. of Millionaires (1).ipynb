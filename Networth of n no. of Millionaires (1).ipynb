{
 "cells": [
  {
   "cell_type": "code",
   "execution_count": 1,
   "id": "68dd5b26-b1ae-4ed8-8575-a413b99e14b7",
   "metadata": {},
   "outputs": [
    {
     "name": "stdin",
     "output_type": "stream",
     "text": [
      "Enter the Number of input:  4\n",
      "Enter the name:  Rahul\n",
      "Enter the Networth $:  100000000\n",
      "Enter the name:  Judy\n",
      "Enter the Networth $:  20000000\n",
      "Enter the name:  Jordan\n",
      "Enter the Networth $:  200000000\n",
      "Enter the name:  Nina\n",
      "Enter the Networth $:  30000000\n"
     ]
    },
    {
     "name": "stdout",
     "output_type": "stream",
     "text": [
      "{'Rahul': 100000000, 'Judy': 20000000, 'Jordan': 200000000, 'Nina': 30000000}\n",
      "Heighest Networt... $$\n",
      "Jordan holds the heighest networth of $200000000\n"
     ]
    }
   ],
   "source": [
    "n=int(input(\"Enter the Number of input: \"))\n",
    "networth={}\n",
    "for i in range(n):\n",
    "    name=input(\"Enter the name: \")\n",
    "    net=int(input(\"Enter the Networth $: \"))\n",
    "    networth[name]=net\n",
    "print(networth)\n",
    "print(\"Heighest Networt... $$\")\n",
    "max_net=0\n",
    "name_holder=''\n",
    "for namee in networth.keys():\n",
    "    if networth[namee]>max_net:\n",
    "        max_net=networth[namee]\n",
    "        name_holder=namee\n",
    "print(f\"{name_holder} holds the heighest networth of ${max_net}\")"
   ]
  },
  {
   "cell_type": "markdown",
   "id": "6f2825e8-2684-4372-9b01-5588b7ac54fd",
   "metadata": {},
   "source": [
    "OR USING def function :)"
   ]
  },
  {
   "cell_type": "code",
   "execution_count": 2,
   "id": "b6e859ba-a27f-496d-96cf-06129c757b87",
   "metadata": {},
   "outputs": [],
   "source": [
    "def n():\n",
    "    n=int(input(\"Enter the Number of input: \"))\n",
    "    networth={}\n",
    "    for i in range(n):\n",
    "        name=input(\"Enter the name: \")\n",
    "        net=int(input(\"Enter the Networth $: \"))\n",
    "        networth[name]=net\n",
    "    print(networth)\n",
    "    print(\"Heighest Networt... $$\")\n",
    "    max_net=0\n",
    "    name_holder=''\n",
    "    for namee in networth.keys():\n",
    "        if networth[namee]>max_net:\n",
    "            max_net=networth[namee]\n",
    "            name_holder=namee\n",
    "    print(f\"{name_holder} holds the heighest networth of ${max_net}\")"
   ]
  },
  {
   "cell_type": "code",
   "execution_count": 3,
   "id": "7917508c-8e0c-4716-9d5f-7c733b8bc7ca",
   "metadata": {},
   "outputs": [
    {
     "name": "stdin",
     "output_type": "stream",
     "text": [
      "Enter the Number of input:  2\n",
      "Enter the name:  Rahul\n",
      "Enter the Networth $:  100000000\n",
      "Enter the name:  Judy\n",
      "Enter the Networth $:  300000\n"
     ]
    },
    {
     "name": "stdout",
     "output_type": "stream",
     "text": [
      "{'Rahul': 100000000, 'Judy': 300000}\n",
      "Heighest Networt... $$\n",
      "Rahul holds the heighest networth of $100000000\n"
     ]
    }
   ],
   "source": [
    "n()"
   ]
  },
  {
   "cell_type": "code",
   "execution_count": null,
   "id": "b7434588-71c5-4b1e-aada-070f7d157e61",
   "metadata": {},
   "outputs": [],
   "source": []
  }
 ],
 "metadata": {
  "kernelspec": {
   "display_name": "Python 3 (ipykernel)",
   "language": "python",
   "name": "python3"
  },
  "language_info": {
   "codemirror_mode": {
    "name": "ipython",
    "version": 3
   },
   "file_extension": ".py",
   "mimetype": "text/x-python",
   "name": "python",
   "nbconvert_exporter": "python",
   "pygments_lexer": "ipython3",
   "version": "3.12.4"
  }
 },
 "nbformat": 4,
 "nbformat_minor": 5
}
